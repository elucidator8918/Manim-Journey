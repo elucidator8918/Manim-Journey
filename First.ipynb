{
 "cells": [
  {
   "cell_type": "code",
   "execution_count": 2,
   "id": "34eec324-a4b1-4896-aa03-56c39f15282a",
   "metadata": {},
   "outputs": [
    {
     "data": {
      "text/html": [
       "<pre style=\"white-space:pre;overflow-x:auto;line-height:normal;font-family:Menlo,'DejaVu Sans Mono',consolas,'Courier New',monospace\"><span style=\"color: #7fbfbf; text-decoration-color: #7fbfbf\">[05/29/24 08:53:46] </span><span style=\"color: #800000; text-decoration-color: #800000\">WARNING </span> Missing Plugins: <span style=\"font-weight: bold\">{</span><span style=\"color: #008000; text-decoration-color: #008000\">''</span><span style=\"font-weight: bold\">}</span>                                                   <a href=\"file:///usr/local/lib/python3.11/site-packages/manim/plugins/__init__.py\" target=\"_blank\"><span style=\"color: #7f7f7f; text-decoration-color: #7f7f7f\">__init__.py</span></a><span style=\"color: #7f7f7f; text-decoration-color: #7f7f7f\">:</span><a href=\"file:///usr/local/lib/python3.11/site-packages/manim/plugins/__init__.py#17\" target=\"_blank\"><span style=\"color: #7f7f7f; text-decoration-color: #7f7f7f\">17</span></a>\n",
       "</pre>\n"
      ],
      "text/plain": [
       "\u001b[2;36m[05/29/24 08:53:46]\u001b[0m\u001b[2;36m \u001b[0m\u001b[31mWARNING \u001b[0m Missing Plugins: \u001b[1m{\u001b[0m\u001b[32m''\u001b[0m\u001b[1m}\u001b[0m                                                   \u001b]8;id=284464;file:///usr/local/lib/python3.11/site-packages/manim/plugins/__init__.py\u001b\\\u001b[2m__init__.py\u001b[0m\u001b]8;;\u001b\\\u001b[2m:\u001b[0m\u001b]8;id=463225;file:///usr/local/lib/python3.11/site-packages/manim/plugins/__init__.py#17\u001b\\\u001b[2m17\u001b[0m\u001b]8;;\u001b\\\n"
      ]
     },
     "metadata": {},
     "output_type": "display_data"
    }
   ],
   "source": [
    "from manim import *"
   ]
  },
  {
   "cell_type": "code",
   "execution_count": 2,
   "id": "b86c60a5-a1d9-4b48-b8d8-65af487d66c1",
   "metadata": {},
   "outputs": [
    {
     "data": {
      "text/html": [
       "<pre style=\"white-space:pre;overflow-x:auto;line-height:normal;font-family:Menlo,'DejaVu Sans Mono',consolas,'Courier New',monospace\">Manim Community <span style=\"color: #008000; text-decoration-color: #008000\">v0.18.0</span>\n",
       "\n",
       "</pre>\n"
      ],
      "text/plain": [
       "Manim Community \u001b[32mv0.\u001b[0m\u001b[32m18.0\u001b[0m\n",
       "\n"
      ]
     },
     "metadata": {},
     "output_type": "display_data"
    },
    {
     "name": "stderr",
     "output_type": "stream",
     "text": [
      "                                                                                \r"
     ]
    },
    {
     "data": {
      "text/html": [
       "<video src=\"media/jupyter/BlochSphere@2024-05-29@02-35-49.mp4\" controls autoplay loop style=\"max-width: 60%;\"  >\n",
       "      Your browser does not support the <code>video</code> element.\n",
       "    </video>"
      ],
      "text/plain": [
       "<IPython.core.display.Video object>"
      ]
     },
     "metadata": {},
     "output_type": "display_data"
    }
   ],
   "source": [
    "class BlochSphere(ThreeDScene):\n",
    "    \"\"\"    \n",
    "    A class for visualizing quantum states on the Bloch sphere.    \n",
    "    \"\"\"\n",
    "\n",
    "    def setup_tex_template(self):\n",
    "        \"\"\"\n",
    "        Sets up the LaTeX template for rendering mathematical symbols.\n",
    "        \"\"\"\n",
    "        myTemplate = TexTemplate()\n",
    "        myTemplate.add_to_preamble(r\"\\usepackage{amsmath}\")\n",
    "        myTemplate.add_to_preamble(r\"\\newcommand\\ket[2][]{#1\\lvert {#2} #1\\rangle}\")\n",
    "        self.tex_template = myTemplate\n",
    "\n",
    "    def create_axes(self):\n",
    "        \"\"\"\n",
    "        Creates the 3D axes for the Bloch sphere.\n",
    "\n",
    "        Returns:\n",
    "            ThreeDAxes: Axes for the Bloch sphere.\n",
    "        \"\"\"\n",
    "        axes = ThreeDAxes(\n",
    "            x_range=(-2, 2, 0.5),\n",
    "            y_range=(-1, 1, 0.5),\n",
    "            z_range=(-3, 3, 0.5),\n",
    "            axis_config={\"color\": BLUE},\n",
    "            x_axis_config={\"color\": RED, \"include_tip\": True},\n",
    "            y_axis_config={\"color\": GREEN, \"include_tip\": True},\n",
    "            z_axis_config={\"color\": YELLOW, \"include_tip\": True},\n",
    "        )\n",
    "        return axes\n",
    "\n",
    "    def create_sphere(self):\n",
    "        \"\"\"\n",
    "        Creates the Bloch sphere.\n",
    "\n",
    "        Returns:\n",
    "            Sphere: Bloch sphere object.\n",
    "        \"\"\"\n",
    "        sphere = Sphere(\n",
    "            center=(0, 0, 0),\n",
    "            radius=3,\n",
    "            resolution=(20, 20),\n",
    "            u_range=[0.001, PI - 0.001],\n",
    "            v_range=[0, TAU],\n",
    "            fill_opacity=0\n",
    "        )\n",
    "        sphere.set_color(GRAY)\n",
    "        return sphere\n",
    "    \n",
    "    def subconstruct(self, titles):\n",
    "        self.set_camera_orientation(phi=2*PI/5, theta=PI/5)                   \n",
    "        self.setup_tex_template()\n",
    "        sphere1 = self.create_sphere()        \n",
    "        axes = self.create_axes()\n",
    "        \n",
    "        arrow_up = Arrow3D(\n",
    "            start=np.array([0, 0, 0]),\n",
    "            end=np.array([0, 0, 3]),\n",
    "            resolution=20,\n",
    "            color=ORANGE\n",
    "            \n",
    "        )\n",
    "\n",
    "        phase_circle = Circle(radius=0.5, color=BLUE_B).shift(UP*4).shift(RIGHT*5)\n",
    "        text = Text(\"Phase Circle\").shift(UP*3).shift(RIGHT*5).scale(0.4)        \n",
    "        state = Text(\"0\").shift(UP*4).shift(RIGHT*5).scale(0.6)\n",
    "        final_state = Text(\"1.57\").shift(UP * 4).shift(RIGHT * 5).scale(0.6)\n",
    "        \n",
    "        title = Text(\"Bloch Sphere\").shift(UP*5)\n",
    "        axises = [LEFT,axes.y_axis.get_unit_vector()]\n",
    "            \n",
    "        zeroket = Tex(\"$\\ket{0}$\",tex_template=self.tex_template).shift(3.5*axes.z_axis.get_unit_vector()).rotate(angle=PI/2,axis=[0.5,0,0]).rotate(angle=PI/2,axis=[0,0,0.5])\n",
    "        oneket = Tex(\"$\\ket{1}$\",tex_template=self.tex_template).shift(-3.5*axes.z_axis.get_unit_vector()).rotate(angle=PI/2,axis=[0.5,0,0]).rotate(angle=PI/2,axis=[0,0,0.5])\n",
    "\n",
    "        plusket = Tex(\"$\\ket{+}$\",tex_template=self.tex_template).shift(2.25*axes.x_axis.get_unit_vector()).rotate(angle=PI/2,axis=[0.5,0,0]).rotate(angle=PI/2,axis=[0,0,0.5])\n",
    "        minusket = Tex(\"$\\ket{-}$\",tex_template=self.tex_template).shift(-2.5*axes.x_axis.get_unit_vector()).rotate(angle=PI/2,axis=[0.5,0,0]).rotate(angle=PI/2,axis=[0,0,0.5])\n",
    "\n",
    "        iplusket = Tex(\"$\\ket{+i}$\",tex_template=self.tex_template).shift(1.2*axes.y_axis.get_unit_vector()).rotate(angle=PI/2,axis=[0.5,0,0]).rotate(angle=PI/2,axis=[0,0,0.5])\n",
    "        iminusket = Tex(\"$\\ket{-i}$\",tex_template=self.tex_template).shift(-1.2*axes.y_axis.get_unit_vector()).rotate(angle=PI/2,axis=[0.5,0,0]).rotate(angle=PI/2,axis=[0,0,0.5]) \n",
    "\n",
    "        self.add_fixed_in_frame_mobjects(title)        \n",
    "        self.play(GrowFromCenter(axes),Write(zeroket),Write(oneket),Write(plusket),Write(minusket),Write(iplusket),Write(iminusket))\n",
    "        self.play(GrowFromCenter(sphere1), run_time=1)\n",
    "        self.play(GrowFromPoint(arrow_up, ORIGIN))  \n",
    "        self.add_fixed_in_frame_mobjects(phase_circle)\n",
    "        self.add_fixed_in_frame_mobjects(state)\n",
    "        self.add_fixed_in_frame_mobjects(text)\n",
    "        self.play(FadeOut(title))\n",
    "        t=0\n",
    "        for obj in zip(titles,axises):\n",
    "            title = Text(obj[0]).shift(UP*5)\n",
    "            self.add_fixed_in_frame_mobjects(title)\n",
    "            self.play(Rotating(arrow_up, about_point=ORIGIN-0.5*ORIGIN, axis=obj[1], radians=PI, rate_func=linear),run_time=1.5)     \n",
    "            if t==1:\n",
    "                self.play(FadeOut(state))\n",
    "                self.add_fixed_in_frame_mobjects(final_state)\n",
    "            self.wait(1)\n",
    "            self.play(Rotating(arrow_up, about_point=ORIGIN-0.5*ORIGIN, axis=obj[1], radians=PI, rate_func=linear),run_time=1.5)    \n",
    "            if t==1:\n",
    "                self.play(FadeOut(final_state))\n",
    "                self.add_fixed_in_frame_mobjects(state)\n",
    "            self.play(FadeOut(title))\n",
    "            t=1\n",
    "                \n",
    "        self.add_fixed_in_frame_mobjects(Text(\"H-Gate\").shift(UP*5))\n",
    "        self.play(Rotating(arrow_up, about_point=ORIGIN-0.5*ORIGIN, axis=axises[1], radians=PI/2, rate_func=linear),run_time=1.5)     \n",
    "        self.wait(1)\n",
    "        self.play(Rotating(arrow_up, about_point=ORIGIN-0.5*ORIGIN, axis=axises[1], radians=-PI/2, rate_func=linear),run_time=1.5)     \n",
    "        self.play(FadeOut(title))\n",
    "        \n",
    "    def construct(self):\n",
    "        \"\"\"\n",
    "        Constructs the Bloch sphere and quantum state representations. This is the main function.\n",
    "        \"\"\"\n",
    "        self.subconstruct([\"X-Gate\", \"Y-Gate\"])\n",
    "        #self.begin_ambient_camera_rotation(rate=60*DEGREES, about=\"theta\")\n",
    "        self.wait(2)\n",
    "        \n",
    "%manim -r 1536,1248 -qk -v WARNING BlochSphere"
   ]
  },
  {
   "cell_type": "code",
   "execution_count": 3,
   "id": "8ad94f18-69e2-4133-a211-343510291b09",
   "metadata": {
    "editable": true,
    "slideshow": {
     "slide_type": ""
    },
    "tags": []
   },
   "outputs": [
    {
     "data": {
      "text/html": [
       "<pre style=\"white-space:pre;overflow-x:auto;line-height:normal;font-family:Menlo,'DejaVu Sans Mono',consolas,'Courier New',monospace\">Manim Community <span style=\"color: #008000; text-decoration-color: #008000\">v0.18.0</span>\n",
       "\n",
       "</pre>\n"
      ],
      "text/plain": [
       "Manim Community \u001b[32mv0.\u001b[0m\u001b[32m18.0\u001b[0m\n",
       "\n"
      ]
     },
     "metadata": {},
     "output_type": "display_data"
    },
    {
     "name": "stderr",
     "output_type": "stream",
     "text": [
      "                                                                                \r"
     ]
    },
    {
     "data": {
      "text/html": [
       "<video src=\"media/jupyter/LogicGates@2024-05-29@02-35-58.mp4\" controls autoplay loop style=\"max-width: 60%;\"  >\n",
       "      Your browser does not support the <code>video</code> element.\n",
       "    </video>"
      ],
      "text/plain": [
       "<IPython.core.display.Video object>"
      ]
     },
     "metadata": {},
     "output_type": "display_data"
    }
   ],
   "source": [
    "class LogicGates(Scene):\n",
    "    \"\"\"\n",
    "    A class for visualizing logic gates and their states.\n",
    "    \"\"\"\n",
    "\n",
    "    def construct(self):\n",
    "        \"\"\"\n",
    "        Constructs the scene showing various logic gates.\n",
    "        \"\"\"\n",
    "        # Background\n",
    "        self.BG()\n",
    "        \n",
    "        # NOT Gate\n",
    "        self.show_not_gate()\n",
    "\n",
    "        # AND Gate\n",
    "        self.show_general_gate(\"AND\",[0,0,0,1])\n",
    "\n",
    "        # OR Gate\n",
    "        self.show_general_gate(\"OR\",[0,1,1,1])\n",
    "\n",
    "        # XOR Gate\n",
    "        self.show_general_gate(\"XOR\",[0,1,1,0])\n",
    "\n",
    "    def title(self, text):\n",
    "        \"\"\"\n",
    "        Displays the title for a given section.\n",
    "\n",
    "        Args:\n",
    "            text (str): The title text.\n",
    "\n",
    "        Returns:\n",
    "            title (Text): The displayed title.\n",
    "        \"\"\"\n",
    "        title = Text(text).to_edge(UP)\n",
    "        self.play(Write(title)) \n",
    "        return title\n",
    "\n",
    "    def BG(self):\n",
    "        \"\"\"\n",
    "        Displays the background with activated and deactivated states.\n",
    "        \"\"\"\n",
    "        title = self.title(\"States\")        \n",
    "\n",
    "        activated_circle = Circle(radius=1, fill_color=BLUE_B, fill_opacity=1, color=BLUE_B)\n",
    "        activated_circle.shift(LEFT * 2)\n",
    "        activated_label = Text(\"Activated\", font_size=24)\n",
    "        activated_label.next_to(activated_circle, DOWN)\n",
    "\n",
    "        # Create the deactivated state circle\n",
    "        deactivated_circle = Circle(radius=1, fill_color=BLUE_B, fill_opacity=0, color=BLUE_B)\n",
    "        deactivated_circle.shift(RIGHT * 2)\n",
    "        deactivated_label = Text(\"Deactivated\", font_size=24)\n",
    "        deactivated_label.next_to(deactivated_circle, DOWN)\n",
    "\n",
    "        # Animate the circles and labels\n",
    "        self.play(Create(activated_circle), Write(activated_label))\n",
    "        self.wait(1)\n",
    "        self.play(Create(deactivated_circle), Write(deactivated_label))\n",
    "        self.wait(1)\n",
    "        self.play(FadeOut(title, activated_circle, deactivated_circle, activated_label, deactivated_label))\n",
    "    \n",
    "    def show_not_gate(self):\n",
    "        \"\"\"\n",
    "        Displays the NOT gate.\n",
    "        \"\"\"\n",
    "        title = self.title(\"NOT Gate\")\n",
    "        \n",
    "        dot_1 = Circle(radius=0.2, fill_opacity=1, color=BLUE_B).next_to(3*LEFT, buff=1)\n",
    "        dot_0 = Circle(radius=0.2, fill_opacity=0, color=WHITE).next_to(3*LEFT, buff=1).shift(DOWN)\n",
    "        \n",
    "        arrow1 = Arrow(start=LEFT,end=RIGHT,color=TEAL_B)\n",
    "        arrow0 = Arrow(start=LEFT,end=RIGHT,color=TEAL_B).shift(DOWN)\n",
    "        \n",
    "        not_dot_1 = Circle(radius=0.2, fill_opacity=0, color=WHITE).next_to(arrow1, RIGHT+0.7*LEFT, buff=2)\n",
    "        not_dot_0 = Circle(radius=0.2, fill_opacity=1, color=BLUE_B).next_to(arrow0, RIGHT+0.7*LEFT, buff=2)\n",
    "        \n",
    "        self.play(FadeIn(dot_0, dot_1))\n",
    "        \n",
    "        self.play(FadeIn(arrow1, arrow0))\n",
    "        \n",
    "        self.play(FadeIn(not_dot_1, not_dot_0))                \n",
    "        \n",
    "        self.play(FadeOut(title, dot_0, dot_1, not_dot_1, not_dot_0, arrow1, arrow0))\n",
    "        \n",
    "        self.wait(1)\n",
    "\n",
    "    def show_general_gate(self, text, states):\n",
    "        \"\"\"\n",
    "        Displays a general logic gate.\n",
    "\n",
    "        Args:\n",
    "            text (str): The name of the gate.\n",
    "            states (list): List of states for the gate.\n",
    "        \"\"\"\n",
    "        title = self.title(f\"{text} Gate\")\n",
    "\n",
    "        coef1,coef2,coef3 = 3.5,2.5,0.5\n",
    "        \n",
    "        dot_00_0 = Circle(radius=0.2, fill_opacity=0, color=BLUE_B).next_to(coef1*LEFT, buff=1).shift(UP)\n",
    "        dot_01_0 = Circle(radius=0.2, fill_opacity=0, color=BLUE_B).next_to(coef1*LEFT, buff=1)\n",
    "        dot_10_0 = Circle(radius=0.2, fill_opacity=1, color=BLUE_B).next_to(coef1*LEFT, buff=1).shift(DOWN)\n",
    "        dot_11_0 = Circle(radius=0.2, fill_opacity=1, color=BLUE_B).next_to(coef1*LEFT, buff=1).shift(DOWN*2)\n",
    "\n",
    "        dot_00_1 = Circle(radius=0.2, fill_opacity=0, color=BLUE_B).next_to(coef2*LEFT, buff=1).shift(UP)\n",
    "        dot_01_1 = Circle(radius=0.2, fill_opacity=1, color=BLUE_B).next_to(coef2*LEFT, buff=1)\n",
    "        dot_10_1 = Circle(radius=0.2, fill_opacity=0, color=BLUE_B).next_to(coef2*LEFT, buff=1).shift(DOWN)\n",
    "        dot_11_1 = Circle(radius=0.2, fill_opacity=1, color=BLUE_B).next_to(coef2*LEFT, buff=1).shift(DOWN*2)\n",
    "\n",
    "        arrow1 = Arrow(start=LEFT,end=RIGHT,color=TEAL_B).shift(UP)\n",
    "        arrow2 = Arrow(start=LEFT,end=RIGHT,color=TEAL_B)\n",
    "        arrow3 = Arrow(start=LEFT,end=RIGHT,color=TEAL_B).shift(DOWN)\n",
    "        arrow4 = Arrow(start=LEFT,end=RIGHT,color=TEAL_B).shift(DOWN*2)\n",
    "\n",
    "        output0 = Circle(radius=0.2, fill_opacity=states[0], color=BLUE_B).next_to(coef3*RIGHT, buff=1).shift(UP)\n",
    "        output1 = Circle(radius=0.2, fill_opacity=states[1], color=BLUE_B).next_to(coef3*RIGHT, buff=1)\n",
    "        output2 = Circle(radius=0.2, fill_opacity=states[2], color=BLUE_B).next_to(coef3*RIGHT, buff=1).shift(DOWN)\n",
    "        output3 = Circle(radius=0.2, fill_opacity=states[3], color=BLUE_B).next_to(coef3*RIGHT, buff=1).shift(DOWN*2)\n",
    "        \n",
    "        self.play(FadeIn(dot_00_0,dot_01_0,dot_10_0,dot_11_0,\n",
    "                         dot_00_1,dot_01_1,dot_10_1,dot_11_1))\n",
    "        \n",
    "        self.play(FadeIn(arrow1,arrow2,\n",
    "                         arrow3,arrow4))\n",
    "        \n",
    "        self.play(FadeIn(output0,output1,\n",
    "                         output2,output3))\n",
    "        \n",
    "        self.play(FadeOut(title, dot_00_0,dot_01_0,dot_10_0,dot_11_0,\n",
    "                          dot_00_1,dot_01_1,dot_10_1,dot_11_1,\n",
    "                          arrow1,arrow2,arrow3,arrow4,\n",
    "                          output0,output1,output2,output3))\n",
    "        \n",
    "        self.wait(1)\n",
    "        \n",
    "%manim -qk -v WARNING LogicGates"
   ]
  },
  {
   "cell_type": "code",
   "execution_count": 3,
   "id": "ba400ac5-5948-4243-b223-0ecd19a15b6e",
   "metadata": {},
   "outputs": [
    {
     "data": {
      "text/html": [
       "<pre style=\"white-space:pre;overflow-x:auto;line-height:normal;font-family:Menlo,'DejaVu Sans Mono',consolas,'Courier New',monospace\">Manim Community <span style=\"color: #008000; text-decoration-color: #008000\">v0.18.0</span>\n",
       "\n",
       "</pre>\n"
      ],
      "text/plain": [
       "Manim Community \u001b[32mv0.\u001b[0m\u001b[32m18.0\u001b[0m\n",
       "\n"
      ]
     },
     "metadata": {},
     "output_type": "display_data"
    },
    {
     "name": "stderr",
     "output_type": "stream",
     "text": [
      "                                                                                \r"
     ]
    },
    {
     "data": {
      "text/html": [
       "<video src=\"media/jupyter/ShorAlgorithmScene@2024-05-29@08-54-47.mp4\" controls autoplay loop style=\"max-width: 60%;\"  >\n",
       "      Your browser does not support the <code>video</code> element.\n",
       "    </video>"
      ],
      "text/plain": [
       "<IPython.core.display.Video object>"
      ]
     },
     "metadata": {},
     "output_type": "display_data"
    }
   ],
   "source": [
    "class ShorAlgorithmScene(Scene):\n",
    "    def construct(self):\n",
    "        # Create images\n",
    "        first_image = ImageMobject(\"first_image.png\").scale(0.7)        \n",
    "        # Title\n",
    "        title = Tex(\"Shor Algorithm\").scale(1.5)\n",
    "        \n",
    "        title.to_edge(UP)\n",
    "        # Animation\n",
    "        self.play(\n",
    "            FadeIn(title),\n",
    "            FadeIn(first_image),\n",
    "        )\n",
    "        self.wait(30)\n",
    "\n",
    "%manim -qk -v WARNING ShorAlgorithmScene"
   ]
  }
 ],
 "metadata": {
  "kernelspec": {
   "display_name": "Python 3 (ipykernel)",
   "language": "python",
   "name": "python3"
  },
  "language_info": {
   "codemirror_mode": {
    "name": "ipython",
    "version": 3
   },
   "file_extension": ".py",
   "mimetype": "text/x-python",
   "name": "python",
   "nbconvert_exporter": "python",
   "pygments_lexer": "ipython3",
   "version": "3.11.9"
  }
 },
 "nbformat": 4,
 "nbformat_minor": 5
}
